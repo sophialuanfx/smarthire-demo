{
 "cells": [
  {
   "cell_type": "code",
   "execution_count": 1,
   "metadata": {},
   "outputs": [],
   "source": [
    "from langchain_community.vectorstores import FAISS\n",
    "from langchain_openai import OpenAIEmbeddings\n",
    "from langchain_community.document_loaders import PyPDFLoader\n",
    "from langchain_openai import ChatOpenAI\n",
    "from langchain_core.runnables import RunnablePassthrough\n",
    "from langchain_core.output_parsers import StrOutputParser\n",
    "from langchain import hub\n",
    "\n",
    "loader = PyPDFLoader(\"../data/Sophia_Resume.pdf\")\n",
    "pages = loader.load_and_split()\n",
    "userName=\"Sophia\""
   ]
  },
  {
   "cell_type": "code",
   "execution_count": 2,
   "metadata": {},
   "outputs": [],
   "source": [
    "import os\n",
    "import getpass\n",
    "\n",
    "os.environ['OPENAI_API_KEY'] = getpass.getpass('OpenAI API Key:')"
   ]
  },
  {
   "cell_type": "code",
   "execution_count": 3,
   "metadata": {},
   "outputs": [],
   "source": [
    "\n",
    "faiss_index = FAISS.from_documents(pages, OpenAIEmbeddings())\n",
    "#docs = faiss_index.similarity_search(\"How will the community be engaged?\", k=2)\n",
    "#for doc in docs:\n",
    "#    print(str(doc.metadata[\"page\"]) + \":\", doc.page_content[:300])"
   ]
  },
  {
   "cell_type": "code",
   "execution_count": 4,
   "metadata": {},
   "outputs": [
    {
     "name": "stdout",
     "output_type": "stream",
     "text": [
      "- Best Matching Job Positions: Fullstack Software Developer, Software Developer Intern, Embedded Software Developer\n",
      "- Top Skills: React, JavaScript, NodeJS, MongoDB, SQL, Git, RESTful API, Test-driven development, Agile methodology, AWS\n",
      "- Industries: Tech\n",
      "- Years of Experience: 1-2 YOE\n",
      "- Location: Toronto, Canada\n",
      "- Open to Relocate: No\n"
     ]
    }
   ],
   "source": [
    "retriever = faiss_index.as_retriever()\n",
    "\n",
    "    #prompt = ChatPromptTemplate.from_template(template)\n",
    "   \n",
    "prompt = hub.pull(\"rlm/rag-prompt\")\n",
    "model = ChatOpenAI(model_name=\"gpt-3.5-turbo\", temperature=0)\n",
    "\n",
    "def format_docs(docs):\n",
    "        return \"\\n\\n\".join([d.page_content for d in docs])\n",
    "    \n",
    "chain = (\n",
    "    {\"context\": retriever | format_docs, \"question\": RunnablePassthrough()}\n",
    "    | prompt\n",
    "    | model\n",
    "    | StrOutputParser()\n",
    ")\n",
    "\n",
    "solution=chain.invoke(\n",
    "        f\"\"\"\n",
    "        Structure {userName} background by filling in the section below\n",
    "        - Best Matching Job Positions (for example \"Data Engineer\", \"Product Manager\", etc) rank tron best fit to less fit:\n",
    "        - Top Skills he/she has (10 to 20):\n",
    "        - Industries (tike Retail, Tech, Consulting, Government, Finance, etc.):\n",
    "        - Years of Experience (estimate if not specified, e.g 3 YOE, 5+ YOE):\n",
    "        - Location (City, Country):\n",
    "        - Open to Relocate (Yes/No):\n",
    "        - Full Experience (including everything):\n",
    "        \"\"\")\n",
    "\n",
    "print(solution)\n",
    "    \n"
   ]
  }
 ],
 "metadata": {
  "kernelspec": {
   "display_name": "Python 3",
   "language": "python",
   "name": "python3"
  },
  "language_info": {
   "codemirror_mode": {
    "name": "ipython",
    "version": 3
   },
   "file_extension": ".py",
   "mimetype": "text/x-python",
   "name": "python",
   "nbconvert_exporter": "python",
   "pygments_lexer": "ipython3",
   "version": "3.11.5"
  }
 },
 "nbformat": 4,
 "nbformat_minor": 2
}
