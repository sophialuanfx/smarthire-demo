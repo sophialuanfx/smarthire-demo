{
 "cells": [
  {
   "cell_type": "code",
   "execution_count": 3,
   "metadata": {},
   "outputs": [],
   "source": [
    "import pandas as pd\n",
    "from apify_client import ApifyClient\n",
    "from datetime import datetime\n",
    "\n",
    "\n",
    "apify_client = ApifyClient('apify_api_IY3hoxDRTo2d2iF7NoZXPIOtFlDb8J1cSkPQ')"
   ]
  },
  {
   "cell_type": "code",
   "execution_count": 4,
   "metadata": {},
   "outputs": [
    {
     "name": "stdout",
     "output_type": "stream",
     "text": [
      "Toronto\n",
      "Data Analyst\n",
      "Data Engineer\n",
      "==============================\n"
     ]
    }
   ],
   "source": [
    "# Start an actor and wait for it to finish\n",
    "position_df = pd.DataFrame()\n",
    "job_titles = [\"Data Analyst\", \"Data Engineer\"]#, \"Data Scientist\", \"Software Developer\", \"Product Manager\", \"Digital Marketer\"]\n",
    "locations = {\"w+CAIQICIHVG9yb250bw==\": \"Toronto\", \"w+CAIQICIJVmFuY291dmVy\": \"Vancourver\"} \n",
    "# locations = {\"w+CAIQICIHVG9yb250bw==\": \"Toronto\", \"w+CAIQICIJVmFuY291dmVy\": \"Vancourver\",\n",
    "#              \"w+CAIQICIITW9udHJlYWw=\": \"Montreal\", \"w+CAIQICIHQ2FsZ2FyeQ==\": \"Calgary\", \"w+CAIQICIIRWRtb250b24=\": \"Edmonton\"}  # UULE\n",
    "\n",
    "for uule in locations:\n",
    "    print(locations[uule])\n",
    "    for jt in job_titles:\n",
    "        print(jt)\n",
    "        run_input = {\n",
    "            \"csvFriendlyOutput\": True,\n",
    "            \"includeUnfilteredResults\": False,\n",
    "            \"maxConcurrency\": 10,\n",
    "            \"maxPagesPerQuery\": 3,\n",
    "            \"queries\": f\"https://www.google.com/search?ibp=htl;jobs&q={jt}&uule={uule}\",\n",
    "            \"saveHtml\": False,\n",
    "            \"saveHtmlToKeyValueStore\": False,\n",
    "        }\n",
    "\n",
    "        actor_call = apify_client.actor(\n",
    "            'dan.scraper/google-jobs-scraper').call(run_input=run_input)\n",
    "\n",
    "        dataset_items = apify_client.dataset(\n",
    "            actor_call['defaultDatasetId']).list_items().items\n",
    "\n",
    "        d = pd.DataFrame(dataset_items)\n",
    "        d[\"query\"] = jt\n",
    "        d[\"location\"] = locations[uule]\n",
    "        d[\"run_time\"] = str(datetime.now())\n",
    "\n",
    "        position_df = pd.concat([position_df, d])\n",
    "\n",
    "    print(\"=\"*30)\n",
    "    break # Only Run For Toronto"
   ]
  },
  {
   "cell_type": "code",
   "execution_count": 5,
   "metadata": {},
   "outputs": [
    {
     "data": {
      "text/plain": [
       "location  query        \n",
       "Toronto   Data Engineer    30\n",
       "Name: count, dtype: int64"
      ]
     },
     "execution_count": 5,
     "metadata": {},
     "output_type": "execute_result"
    }
   ],
   "source": [
    "position_df.groupby(\"location\")[\"query\"].value_counts()"
   ]
  },
  {
   "cell_type": "code",
   "execution_count": 19,
   "metadata": {},
   "outputs": [],
   "source": [
    "# _ = position_df.pop(\"thumbnail\") # not useful, with na values\n",
    "position_df.to_csv(\"../data/raw_google_1129.csv\", index=False)\n"
   ]
  },
  {
   "cell_type": "code",
   "execution_count": 7,
   "metadata": {},
   "outputs": [
    {
     "data": {
      "text/html": [
       "<div>\n",
       "<style scoped>\n",
       "    .dataframe tbody tr th:only-of-type {\n",
       "        vertical-align: middle;\n",
       "    }\n",
       "\n",
       "    .dataframe tbody tr th {\n",
       "        vertical-align: top;\n",
       "    }\n",
       "\n",
       "    .dataframe thead th {\n",
       "        text-align: right;\n",
       "    }\n",
       "</style>\n",
       "<table border=\"1\" class=\"dataframe\">\n",
       "  <thead>\n",
       "    <tr style=\"text-align: right;\">\n",
       "      <th></th>\n",
       "      <th>query</th>\n",
       "      <th>location</th>\n",
       "      <th>run_time</th>\n",
       "      <th>title</th>\n",
       "      <th>companyName</th>\n",
       "      <th>via</th>\n",
       "      <th>description</th>\n",
       "      <th>jobHighlights</th>\n",
       "      <th>relatedLinks</th>\n",
       "      <th>extras</th>\n",
       "      <th>metadata</th>\n",
       "      <th>applyLink</th>\n",
       "    </tr>\n",
       "  </thead>\n",
       "  <tbody>\n",
       "    <tr>\n",
       "      <th>0</th>\n",
       "      <td>Data Engineer</td>\n",
       "      <td>Toronto</td>\n",
       "      <td>2024-02-25 01:43:11.042136</td>\n",
       "      <td>Junior Data Engineer</td>\n",
       "      <td>Scotiabank</td>\n",
       "      <td>via Scotiabank Jobs</td>\n",
       "      <td>Requisition ID: 193348\\n\\nJoin a purpose drive...</td>\n",
       "      <td>[{'items': ['Requisition ID: 193348\n",
       "\n",
       "Join a pu...</td>\n",
       "      <td>[{'link': 'http://www.scotiabank.com/', 'text'...</td>\n",
       "      <td>[2 days ago, Full-time, No degree mentioned]</td>\n",
       "      <td>{'postedAt': '2 days ago', 'scheduleType': 'Fu...</td>\n",
       "      <td>{'title': '.nFg2eb{font-weight:500}.Bi6Ddc{fon...</td>\n",
       "    </tr>\n",
       "    <tr>\n",
       "      <th>1</th>\n",
       "      <td>Data Engineer</td>\n",
       "      <td>Toronto</td>\n",
       "      <td>2024-02-25 01:43:11.042136</td>\n",
       "      <td>Sr. Data Engineer</td>\n",
       "      <td>EY</td>\n",
       "      <td>via EY Careers</td>\n",
       "      <td>At EY, you’ll have the chance to build a caree...</td>\n",
       "      <td>[{'items': ['At EY, you’ll have the chance to ...</td>\n",
       "      <td>[{'link': 'http://www.ey.com/', 'text': 'ey.co...</td>\n",
       "      <td>[1 day ago, Full-time]</td>\n",
       "      <td>{'postedAt': '1 day ago', 'scheduleType': 'Ful...</td>\n",
       "      <td>{'title': 'Apply on EY Careers', 'link': 'http...</td>\n",
       "    </tr>\n",
       "    <tr>\n",
       "      <th>2</th>\n",
       "      <td>Data Engineer</td>\n",
       "      <td>Toronto</td>\n",
       "      <td>2024-02-25 01:43:11.042136</td>\n",
       "      <td>Senior Data Engineer</td>\n",
       "      <td>AdventInfotech</td>\n",
       "      <td>via LinkedIn</td>\n",
       "      <td>Senior Data Engineer:\\n\\nWe at Advent Infotech...</td>\n",
       "      <td>[{'items': ['Senior Data Engineer:\n",
       "\n",
       "We at Adve...</td>\n",
       "      <td>[{'link': 'https://www.google.com/search?sca_e...</td>\n",
       "      <td>[2 days ago, Full-time]</td>\n",
       "      <td>{'postedAt': '2 days ago', 'scheduleType': 'Fu...</td>\n",
       "      <td>{'title': 'Apply on LinkedIn', 'link': 'https:...</td>\n",
       "    </tr>\n",
       "    <tr>\n",
       "      <th>3</th>\n",
       "      <td>Data Engineer</td>\n",
       "      <td>Toronto</td>\n",
       "      <td>2024-02-25 01:43:11.042136</td>\n",
       "      <td>Sr Data Engineer, Data Engineering</td>\n",
       "      <td>Cardinal Health</td>\n",
       "      <td>via Cardinal Health</td>\n",
       "      <td>Cardinal Health Canada, with over 1300 employe...</td>\n",
       "      <td>[{'items': ['Cardinal Health Canada, with over...</td>\n",
       "      <td>[{'link': 'http://www.cardinal.com/', 'text': ...</td>\n",
       "      <td>[Full-time and Contractor]</td>\n",
       "      <td>{'scheduleType': 'Full-time and Contractor'}</td>\n",
       "      <td>{'title': 'Apply on Cardinal Health', 'link': ...</td>\n",
       "    </tr>\n",
       "    <tr>\n",
       "      <th>4</th>\n",
       "      <td>Data Engineer</td>\n",
       "      <td>Toronto</td>\n",
       "      <td>2024-02-25 01:43:11.042136</td>\n",
       "      <td>Data Engineer (AWS)</td>\n",
       "      <td>Iris Software Inc.</td>\n",
       "      <td>via LinkedIn</td>\n",
       "      <td>Iris's direct client, one of the leading Banki...</td>\n",
       "      <td>[{'items': ['Iris's direct client, one of the ...</td>\n",
       "      <td>[{'link': 'http://www.irissoftware.com/', 'tex...</td>\n",
       "      <td>[4 days ago, Full-time and Temp work, No degre...</td>\n",
       "      <td>{'postedAt': '4 days ago', 'scheduleType': 'Fu...</td>\n",
       "      <td>{'title': 'Apply on LinkedIn', 'link': 'https:...</td>\n",
       "    </tr>\n",
       "  </tbody>\n",
       "</table>\n",
       "</div>"
      ],
      "text/plain": [
       "           query location                    run_time  \\\n",
       "0  Data Engineer  Toronto  2024-02-25 01:43:11.042136   \n",
       "1  Data Engineer  Toronto  2024-02-25 01:43:11.042136   \n",
       "2  Data Engineer  Toronto  2024-02-25 01:43:11.042136   \n",
       "3  Data Engineer  Toronto  2024-02-25 01:43:11.042136   \n",
       "4  Data Engineer  Toronto  2024-02-25 01:43:11.042136   \n",
       "\n",
       "                                title         companyName  \\\n",
       "0                Junior Data Engineer          Scotiabank   \n",
       "1                   Sr. Data Engineer                  EY   \n",
       "2                Senior Data Engineer      AdventInfotech   \n",
       "3  Sr Data Engineer, Data Engineering     Cardinal Health   \n",
       "4                 Data Engineer (AWS)  Iris Software Inc.   \n",
       "\n",
       "                   via                                        description  \\\n",
       "0  via Scotiabank Jobs  Requisition ID: 193348\\n\\nJoin a purpose drive...   \n",
       "1       via EY Careers  At EY, you’ll have the chance to build a caree...   \n",
       "2         via LinkedIn  Senior Data Engineer:\\n\\nWe at Advent Infotech...   \n",
       "3  via Cardinal Health  Cardinal Health Canada, with over 1300 employe...   \n",
       "4         via LinkedIn  Iris's direct client, one of the leading Banki...   \n",
       "\n",
       "                                       jobHighlights  \\\n",
       "0  [{'items': ['Requisition ID: 193348\n",
       "\n",
       "Join a pu...   \n",
       "1  [{'items': ['At EY, you’ll have the chance to ...   \n",
       "2  [{'items': ['Senior Data Engineer:\n",
       "\n",
       "We at Adve...   \n",
       "3  [{'items': ['Cardinal Health Canada, with over...   \n",
       "4  [{'items': ['Iris's direct client, one of the ...   \n",
       "\n",
       "                                        relatedLinks  \\\n",
       "0  [{'link': 'http://www.scotiabank.com/', 'text'...   \n",
       "1  [{'link': 'http://www.ey.com/', 'text': 'ey.co...   \n",
       "2  [{'link': 'https://www.google.com/search?sca_e...   \n",
       "3  [{'link': 'http://www.cardinal.com/', 'text': ...   \n",
       "4  [{'link': 'http://www.irissoftware.com/', 'tex...   \n",
       "\n",
       "                                              extras  \\\n",
       "0       [2 days ago, Full-time, No degree mentioned]   \n",
       "1                             [1 day ago, Full-time]   \n",
       "2                            [2 days ago, Full-time]   \n",
       "3                         [Full-time and Contractor]   \n",
       "4  [4 days ago, Full-time and Temp work, No degre...   \n",
       "\n",
       "                                            metadata  \\\n",
       "0  {'postedAt': '2 days ago', 'scheduleType': 'Fu...   \n",
       "1  {'postedAt': '1 day ago', 'scheduleType': 'Ful...   \n",
       "2  {'postedAt': '2 days ago', 'scheduleType': 'Fu...   \n",
       "3       {'scheduleType': 'Full-time and Contractor'}   \n",
       "4  {'postedAt': '4 days ago', 'scheduleType': 'Fu...   \n",
       "\n",
       "                                           applyLink  \n",
       "0  {'title': '.nFg2eb{font-weight:500}.Bi6Ddc{fon...  \n",
       "1  {'title': 'Apply on EY Careers', 'link': 'http...  \n",
       "2  {'title': 'Apply on LinkedIn', 'link': 'https:...  \n",
       "3  {'title': 'Apply on Cardinal Health', 'link': ...  \n",
       "4  {'title': 'Apply on LinkedIn', 'link': 'https:...  "
      ]
     },
     "execution_count": 7,
     "metadata": {},
     "output_type": "execute_result"
    }
   ],
   "source": [
    "position_df.head()"
   ]
  },
  {
   "cell_type": "code",
   "execution_count": 9,
   "metadata": {},
   "outputs": [],
   "source": [
    "from opensearchpy import OpenSearch, helpers"
   ]
  },
  {
   "cell_type": "code",
   "execution_count": 10,
   "metadata": {},
   "outputs": [],
   "source": [
    "host = 'search-swift-hire-dev-jfmldmym4cfbiwdhwmtuqq6ihy.us-west-2.es.amazonaws.com'\n",
    "port = 443\n",
    "auth = ('swift', 'Hire123!') # For testing only. Don't store credentials in code.\n",
    "\n",
    "client = OpenSearch(\n",
    "    hosts = [{'host': host, 'port': port}],\n",
    "    http_compress = True, # enables gzip compression for request bodies\n",
    "    http_auth = auth,\n",
    "    use_ssl = True,\n",
    "    ssl_assert_hostname = False,\n",
    "    ssl_show_warn = False,\n",
    ")"
   ]
  },
  {
   "cell_type": "code",
   "execution_count": 11,
   "metadata": {},
   "outputs": [
    {
     "name": "stdout",
     "output_type": "stream",
     "text": [
      "Data Saved to ES\n"
     ]
    }
   ],
   "source": [
    "index_name = \"swift_dev\"\n",
    "\n",
    "if not client.indices.exists(index_name):\n",
    "    client.indices.create(index=index_name)\n",
    "\n",
    "def doc_generator(df):\n",
    "    for i, row in df.iterrows():\n",
    "        doc = {\n",
    "            \"_index\": index_name,\n",
    "            \"_source\": row.to_dict(),\n",
    "        }\n",
    "        yield doc\n",
    "\n",
    "helpers.bulk(client, doc_generator(position_df))\n",
    "\n",
    "print(\"Data Saved to ES\")"
   ]
  },
  {
   "cell_type": "code",
   "execution_count": 12,
   "metadata": {},
   "outputs": [
    {
     "data": {
      "text/plain": [
       "query\n",
       "Data Engineer    30\n",
       "Name: count, dtype: int64"
      ]
     },
     "execution_count": 12,
     "metadata": {},
     "output_type": "execute_result"
    }
   ],
   "source": [
    "position_df[\"query\"].value_counts()"
   ]
  }
 ],
 "metadata": {
  "kernelspec": {
   "display_name": "base",
   "language": "python",
   "name": "python3"
  },
  "language_info": {
   "codemirror_mode": {
    "name": "ipython",
    "version": 3
   },
   "file_extension": ".py",
   "mimetype": "text/x-python",
   "name": "python",
   "nbconvert_exporter": "python",
   "pygments_lexer": "ipython3",
   "version": "3.11.5"
  },
  "orig_nbformat": 4
 },
 "nbformat": 4,
 "nbformat_minor": 2
}
