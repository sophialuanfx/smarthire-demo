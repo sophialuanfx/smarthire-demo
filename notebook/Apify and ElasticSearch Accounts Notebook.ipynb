{
 "cells": [
  {
   "cell_type": "code",
   "execution_count": 1,
   "metadata": {},
   "outputs": [],
   "source": [
    "import pandas as pd\n",
    "from apify_client import ApifyClient\n",
    "from datetime import datetime\n",
    "\n",
    "\n",
    "apify_client = ApifyClient('apify_api_IY3hoxDRTo2d2iF7NoZXPIOtFlDb8J1cSkPQ')"
   ]
  },
  {
   "cell_type": "code",
   "execution_count": 2,
   "metadata": {},
   "outputs": [
    {
     "name": "stdout",
     "output_type": "stream",
     "text": [
      "Toronto\n",
      "Data Analyst\n",
      "Data Engineer\n",
      "==============================\n"
     ]
    }
   ],
   "source": [
    "# Start an actor and wait for it to finish\n",
    "position_df = pd.DataFrame()\n",
    "job_titles = [\"Data Analyst\", \"Data Engineer\"]#, \"Data Scientist\", \"Software Developer\", \"Product Manager\", \"Digital Marketer\"]\n",
    "locations = {\"w+CAIQICIHVG9yb250bw==\": \"Toronto\", \"w+CAIQICIJVmFuY291dmVy\": \"Vancourver\"} \n",
    "# locations = {\"w+CAIQICIHVG9yb250bw==\": \"Toronto\", \"w+CAIQICIJVmFuY291dmVy\": \"Vancourver\",\n",
    "#              \"w+CAIQICIITW9udHJlYWw=\": \"Montreal\", \"w+CAIQICIHQ2FsZ2FyeQ==\": \"Calgary\", \"w+CAIQICIIRWRtb250b24=\": \"Edmonton\"}  # UULE\n",
    "\n",
    "for uule in locations:\n",
    "    print(locations[uule])\n",
    "    for jt in job_titles:\n",
    "        print(jt)\n",
    "        run_input = {\n",
    "            \"csvFriendlyOutput\": True,\n",
    "            \"includeUnfilteredResults\": False,\n",
    "            \"maxConcurrency\": 10,\n",
    "            \"maxPagesPerQuery\": 3,\n",
    "            \"queries\": f\"https://www.google.com/search?ibp=htl;jobs&q={jt}&uule={uule}\",\n",
    "            \"saveHtml\": False,\n",
    "            \"saveHtmlToKeyValueStore\": False,\n",
    "        }\n",
    "\n",
    "        actor_call = apify_client.actor(\n",
    "            'dan.scraper/google-jobs-scraper').call(run_input=run_input)\n",
    "\n",
    "        dataset_items = apify_client.dataset(\n",
    "            actor_call['defaultDatasetId']).list_items().items\n",
    "\n",
    "        d = pd.DataFrame(dataset_items)\n",
    "        d[\"query\"] = jt\n",
    "        d[\"location\"] = locations[uule]\n",
    "        d[\"run_time\"] = str(datetime.now())\n",
    "\n",
    "        position_df = pd.concat([position_df, d])\n",
    "\n",
    "    print(\"=\"*30)\n",
    "    break # Only Run For Toronto"
   ]
  },
  {
   "cell_type": "code",
   "execution_count": 3,
   "metadata": {},
   "outputs": [
    {
     "data": {
      "text/plain": [
       "location  query        \n",
       "Toronto   Data Analyst     20\n",
       "          Data Engineer    10\n",
       "Name: count, dtype: int64"
      ]
     },
     "execution_count": 3,
     "metadata": {},
     "output_type": "execute_result"
    }
   ],
   "source": [
    "position_df.groupby(\"location\")[\"query\"].value_counts()"
   ]
  },
  {
   "cell_type": "code",
   "execution_count": 12,
   "metadata": {},
   "outputs": [],
   "source": [
    "#_ = position_df.pop(\"thumbnail\") # not useful, with na values\n",
    "position_df.to_csv(\"../data/raw_google_1129.csv\", index=False)\n"
   ]
  },
  {
   "cell_type": "code",
   "execution_count": 13,
   "metadata": {},
   "outputs": [
    {
     "data": {
      "text/html": [
       "<div>\n",
       "<style scoped>\n",
       "    .dataframe tbody tr th:only-of-type {\n",
       "        vertical-align: middle;\n",
       "    }\n",
       "\n",
       "    .dataframe tbody tr th {\n",
       "        vertical-align: top;\n",
       "    }\n",
       "\n",
       "    .dataframe thead th {\n",
       "        text-align: right;\n",
       "    }\n",
       "</style>\n",
       "<table border=\"1\" class=\"dataframe\">\n",
       "  <thead>\n",
       "    <tr style=\"text-align: right;\">\n",
       "      <th></th>\n",
       "      <th>title</th>\n",
       "      <th>companyName</th>\n",
       "      <th>location</th>\n",
       "      <th>via</th>\n",
       "      <th>description</th>\n",
       "      <th>jobHighlights</th>\n",
       "      <th>relatedLinks</th>\n",
       "      <th>extras</th>\n",
       "      <th>metadata</th>\n",
       "      <th>applyLink</th>\n",
       "      <th>query</th>\n",
       "      <th>run_time</th>\n",
       "    </tr>\n",
       "  </thead>\n",
       "  <tbody>\n",
       "    <tr>\n",
       "      <th>0</th>\n",
       "      <td>Data Analyst (DAD/NACRS Coder) - Decision Supp...</td>\n",
       "      <td>Sunnybrook</td>\n",
       "      <td>Toronto</td>\n",
       "      <td>via LinkedIn</td>\n",
       "      <td>Summary Of Duties\\n\\nThe Data Analyst Coder is...</td>\n",
       "      <td>[{'items': ['Summary Of Duties\n",
       "\n",
       "The Data Analy...</td>\n",
       "      <td>[{'link': 'https://www.google.com/search?sca_e...</td>\n",
       "      <td>[7 hours ago, Full-time, No degree mentioned]</td>\n",
       "      <td>{'postedAt': '7 hours ago', 'scheduleType': 'F...</td>\n",
       "      <td>{'title': '.nFg2eb{font-weight:500}.Bi6Ddc{fon...</td>\n",
       "      <td>Data Analyst</td>\n",
       "      <td>2024-03-11 23:56:48.991887</td>\n",
       "    </tr>\n",
       "    <tr>\n",
       "      <th>1</th>\n",
       "      <td>Marketing Automation Data Analyst</td>\n",
       "      <td>ClickJobs.io</td>\n",
       "      <td>Toronto</td>\n",
       "      <td>via LinkedIn</td>\n",
       "      <td>data analyst in marketing automation and/or sa...</td>\n",
       "      <td>[{'items': ['data analyst in marketing automat...</td>\n",
       "      <td>[{'link': 'https://www.google.com/search?sca_e...</td>\n",
       "      <td>[12 hours ago, Full-time]</td>\n",
       "      <td>{'postedAt': '12 hours ago', 'scheduleType': '...</td>\n",
       "      <td>{'title': 'Apply on LinkedIn', 'link': 'https:...</td>\n",
       "      <td>Data Analyst</td>\n",
       "      <td>2024-03-11 23:56:48.991887</td>\n",
       "    </tr>\n",
       "    <tr>\n",
       "      <th>2</th>\n",
       "      <td>Intermediate Data Analyst</td>\n",
       "      <td>confidential</td>\n",
       "      <td>Toronto</td>\n",
       "      <td>via Apex Systems</td>\n",
       "      <td>Intermediate Data Analyst\\nApex Systems is a g...</td>\n",
       "      <td>[{'items': ['Intermediate Data Analyst\n",
       "Apex Sy...</td>\n",
       "      <td>[{'link': 'https://www.google.com/search?sca_e...</td>\n",
       "      <td>[6 days ago, Contractor]</td>\n",
       "      <td>{'postedAt': '6 days ago', 'scheduleType': 'Co...</td>\n",
       "      <td>{'title': 'Apply on Apex Systems', 'link': 'ht...</td>\n",
       "      <td>Data Analyst</td>\n",
       "      <td>2024-03-11 23:56:48.991887</td>\n",
       "    </tr>\n",
       "    <tr>\n",
       "      <th>3</th>\n",
       "      <td>Data Analyst</td>\n",
       "      <td>Jarvis Consulting Group</td>\n",
       "      <td>Toronto</td>\n",
       "      <td>via Indeed</td>\n",
       "      <td>• Location: Toronto, ON\\n• Type: Contract\\n• J...</td>\n",
       "      <td>[{'items': ['• Location: Toronto, ON\n",
       "• Type: C...</td>\n",
       "      <td>[{'link': 'https://www.google.com/search?sca_e...</td>\n",
       "      <td>[3 days ago, Contractor, No degree mentioned]</td>\n",
       "      <td>{'postedAt': '3 days ago', 'scheduleType': 'Co...</td>\n",
       "      <td>{'title': 'Apply on Indeed', 'link': 'https://...</td>\n",
       "      <td>Data Analyst</td>\n",
       "      <td>2024-03-11 23:56:48.991887</td>\n",
       "    </tr>\n",
       "    <tr>\n",
       "      <th>4</th>\n",
       "      <td>Data Analyst</td>\n",
       "      <td>Jacobs</td>\n",
       "      <td>Toronto</td>\n",
       "      <td>via Jacobs</td>\n",
       "      <td>Your Impact:\\n\\nOur People &amp; Places Solutions ...</td>\n",
       "      <td>[{'items': ['Your Impact:\n",
       "\n",
       "Our People &amp; Places...</td>\n",
       "      <td>[{'link': 'http://www.jacobs.com/', 'text': 'j...</td>\n",
       "      <td>[18 days ago, Full-time, No degree mentioned]</td>\n",
       "      <td>{'postedAt': '18 days ago', 'scheduleType': 'F...</td>\n",
       "      <td>{'title': 'Apply on Jacobs', 'link': 'https://...</td>\n",
       "      <td>Data Analyst</td>\n",
       "      <td>2024-03-11 23:56:48.991887</td>\n",
       "    </tr>\n",
       "  </tbody>\n",
       "</table>\n",
       "</div>"
      ],
      "text/plain": [
       "                                               title              companyName  \\\n",
       "0  Data Analyst (DAD/NACRS Coder) - Decision Supp...               Sunnybrook   \n",
       "1                  Marketing Automation Data Analyst             ClickJobs.io   \n",
       "2                          Intermediate Data Analyst             confidential   \n",
       "3                                       Data Analyst  Jarvis Consulting Group   \n",
       "4                                       Data Analyst                   Jacobs   \n",
       "\n",
       "  location               via  \\\n",
       "0  Toronto      via LinkedIn   \n",
       "1  Toronto      via LinkedIn   \n",
       "2  Toronto  via Apex Systems   \n",
       "3  Toronto        via Indeed   \n",
       "4  Toronto        via Jacobs   \n",
       "\n",
       "                                         description  \\\n",
       "0  Summary Of Duties\\n\\nThe Data Analyst Coder is...   \n",
       "1  data analyst in marketing automation and/or sa...   \n",
       "2  Intermediate Data Analyst\\nApex Systems is a g...   \n",
       "3  • Location: Toronto, ON\\n• Type: Contract\\n• J...   \n",
       "4  Your Impact:\\n\\nOur People & Places Solutions ...   \n",
       "\n",
       "                                       jobHighlights  \\\n",
       "0  [{'items': ['Summary Of Duties\n",
       "\n",
       "The Data Analy...   \n",
       "1  [{'items': ['data analyst in marketing automat...   \n",
       "2  [{'items': ['Intermediate Data Analyst\n",
       "Apex Sy...   \n",
       "3  [{'items': ['• Location: Toronto, ON\n",
       "• Type: C...   \n",
       "4  [{'items': ['Your Impact:\n",
       "\n",
       "Our People & Places...   \n",
       "\n",
       "                                        relatedLinks  \\\n",
       "0  [{'link': 'https://www.google.com/search?sca_e...   \n",
       "1  [{'link': 'https://www.google.com/search?sca_e...   \n",
       "2  [{'link': 'https://www.google.com/search?sca_e...   \n",
       "3  [{'link': 'https://www.google.com/search?sca_e...   \n",
       "4  [{'link': 'http://www.jacobs.com/', 'text': 'j...   \n",
       "\n",
       "                                          extras  \\\n",
       "0  [7 hours ago, Full-time, No degree mentioned]   \n",
       "1                      [12 hours ago, Full-time]   \n",
       "2                       [6 days ago, Contractor]   \n",
       "3  [3 days ago, Contractor, No degree mentioned]   \n",
       "4  [18 days ago, Full-time, No degree mentioned]   \n",
       "\n",
       "                                            metadata  \\\n",
       "0  {'postedAt': '7 hours ago', 'scheduleType': 'F...   \n",
       "1  {'postedAt': '12 hours ago', 'scheduleType': '...   \n",
       "2  {'postedAt': '6 days ago', 'scheduleType': 'Co...   \n",
       "3  {'postedAt': '3 days ago', 'scheduleType': 'Co...   \n",
       "4  {'postedAt': '18 days ago', 'scheduleType': 'F...   \n",
       "\n",
       "                                           applyLink         query  \\\n",
       "0  {'title': '.nFg2eb{font-weight:500}.Bi6Ddc{fon...  Data Analyst   \n",
       "1  {'title': 'Apply on LinkedIn', 'link': 'https:...  Data Analyst   \n",
       "2  {'title': 'Apply on Apex Systems', 'link': 'ht...  Data Analyst   \n",
       "3  {'title': 'Apply on Indeed', 'link': 'https://...  Data Analyst   \n",
       "4  {'title': 'Apply on Jacobs', 'link': 'https://...  Data Analyst   \n",
       "\n",
       "                     run_time  \n",
       "0  2024-03-11 23:56:48.991887  \n",
       "1  2024-03-11 23:56:48.991887  \n",
       "2  2024-03-11 23:56:48.991887  \n",
       "3  2024-03-11 23:56:48.991887  \n",
       "4  2024-03-11 23:56:48.991887  "
      ]
     },
     "execution_count": 13,
     "metadata": {},
     "output_type": "execute_result"
    }
   ],
   "source": [
    "position_df.head()"
   ]
  },
  {
   "cell_type": "code",
   "execution_count": 8,
   "metadata": {},
   "outputs": [],
   "source": [
    "from opensearchpy import OpenSearch, helpers"
   ]
  },
  {
   "cell_type": "code",
   "execution_count": 9,
   "metadata": {},
   "outputs": [],
   "source": [
    "host = 'search-swift-hire-dev-jfmldmym4cfbiwdhwmtuqq6ihy.us-west-2.es.amazonaws.com'\n",
    "port = 443\n",
    "auth = ('swift', 'Hire123!') # For testing only. Don't store credentials in code.\n",
    "\n",
    "client = OpenSearch(\n",
    "    hosts = [{'host': host, 'port': port}],\n",
    "    http_compress = True, # enables gzip compression for request bodies\n",
    "    http_auth = auth,\n",
    "    use_ssl = True,\n",
    "    ssl_assert_hostname = False,\n",
    "    ssl_show_warn = False,\n",
    ")"
   ]
  },
  {
   "cell_type": "code",
   "execution_count": 10,
   "metadata": {},
   "outputs": [
    {
     "name": "stdout",
     "output_type": "stream",
     "text": [
      "Data Saved to ES\n"
     ]
    }
   ],
   "source": [
    "index_name = \"swift_dev\"\n",
    "\n",
    "if not client.indices.exists(index_name):\n",
    "    client.indices.create(index=index_name)\n",
    "\n",
    "def doc_generator(df):\n",
    "    for i, row in df.iterrows():\n",
    "        doc = {\n",
    "            \"_index\": index_name,\n",
    "            \"_source\": row.to_dict(),\n",
    "        }\n",
    "        yield doc\n",
    "\n",
    "helpers.bulk(client, doc_generator(position_df))\n",
    "\n",
    "print(\"Data Saved to ES\")"
   ]
  },
  {
   "cell_type": "code",
   "execution_count": 11,
   "metadata": {},
   "outputs": [
    {
     "data": {
      "text/plain": [
       "query\n",
       "Data Analyst     20\n",
       "Data Engineer    10\n",
       "Name: count, dtype: int64"
      ]
     },
     "execution_count": 11,
     "metadata": {},
     "output_type": "execute_result"
    }
   ],
   "source": [
    "position_df[\"query\"].value_counts()"
   ]
  }
 ],
 "metadata": {
  "kernelspec": {
   "display_name": "base",
   "language": "python",
   "name": "python3"
  },
  "language_info": {
   "codemirror_mode": {
    "name": "ipython",
    "version": 3
   },
   "file_extension": ".py",
   "mimetype": "text/x-python",
   "name": "python",
   "nbconvert_exporter": "python",
   "pygments_lexer": "ipython3",
   "version": "3.11.5"
  },
  "orig_nbformat": 4
 },
 "nbformat": 4,
 "nbformat_minor": 2
}
