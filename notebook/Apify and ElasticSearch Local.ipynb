{
 "cells": [
  {
   "cell_type": "code",
   "execution_count": 3,
   "metadata": {},
   "outputs": [],
   "source": [
    "import pandas as pd\n",
    "from apify_client import ApifyClient\n",
    "from datetime import datetime\n",
    "\n",
    "\n",
    "apify_client = ApifyClient('apify_api_IY3hoxDRTo2d2iF7NoZXPIOtFlDb8J1cSkPQ')"
   ]
  },
  {
   "cell_type": "code",
   "execution_count": 4,
   "metadata": {},
   "outputs": [
    {
     "name": "stdout",
     "output_type": "stream",
     "text": [
      "Toronto\n",
      "Data Analyst\n",
      "Data Engineer\n",
      "==============================\n"
     ]
    }
   ],
   "source": [
    "# Start an actor and wait for it to finish\n",
    "position_df = pd.DataFrame()\n",
    "job_titles = [\"Data Analyst\", \"Data Engineer\"]#, \"Data Scientist\", \"Software Developer\", \"Product Manager\", \"Digital Marketer\"]\n",
    "locations = {\"w+CAIQICIHVG9yb250bw==\": \"Toronto\", \"w+CAIQICIJVmFuY291dmVy\": \"Vancourver\"} \n",
    "# locations = {\"w+CAIQICIHVG9yb250bw==\": \"Toronto\", \"w+CAIQICIJVmFuY291dmVy\": \"Vancourver\",\n",
    "#              \"w+CAIQICIITW9udHJlYWw=\": \"Montreal\", \"w+CAIQICIHQ2FsZ2FyeQ==\": \"Calgary\", \"w+CAIQICIIRWRtb250b24=\": \"Edmonton\"}  # UULE\n",
    "\n",
    "for uule in locations:\n",
    "    print(locations[uule])\n",
    "    for jt in job_titles:\n",
    "        print(jt)\n",
    "        run_input = {\n",
    "            \"csvFriendlyOutput\": True,\n",
    "            \"includeUnfilteredResults\": False,\n",
    "            \"maxConcurrency\": 10,\n",
    "            \"maxPagesPerQuery\": 3,\n",
    "            \"queries\": f\"https://www.google.com/search?ibp=htl;jobs&q={jt}&uule={uule}\",\n",
    "            \"saveHtml\": False,\n",
    "            \"saveHtmlToKeyValueStore\": False,\n",
    "        }\n",
    "\n",
    "        actor_call = apify_client.actor(\n",
    "            'dan.scraper/google-jobs-scraper').call(run_input=run_input)\n",
    "\n",
    "        dataset_items = apify_client.dataset(\n",
    "            actor_call['defaultDatasetId']).list_items().items\n",
    "\n",
    "        d = pd.DataFrame(dataset_items)\n",
    "        d[\"query\"] = jt\n",
    "        d[\"location\"] = locations[uule]\n",
    "        d[\"run_time\"] = str(datetime.now())\n",
    "\n",
    "        position_df = pd.concat([position_df, d])\n",
    "\n",
    "    print(\"=\"*30)\n",
    "    break # Only Run For Toronto"
   ]
  },
  {
   "cell_type": "code",
   "execution_count": 5,
   "metadata": {},
   "outputs": [
    {
     "data": {
      "text/plain": [
       "location  query        \n",
       "Toronto   Data Analyst     20\n",
       "          Data Engineer    20\n",
       "Name: count, dtype: int64"
      ]
     },
     "execution_count": 5,
     "metadata": {},
     "output_type": "execute_result"
    }
   ],
   "source": [
    "position_df.groupby(\"location\")[\"query\"].value_counts()"
   ]
  },
  {
   "cell_type": "code",
   "execution_count": 18,
   "metadata": {},
   "outputs": [],
   "source": [
    "#_ = position_df.pop(\"thumbnail\") # not useful, with na values\n",
    "_ = position_df.insert(1,\"publishDate\", pd.Timestamp.now())\n",
    "#_ = position_df.pop(\"publishDate\")\n",
    "position_df.to_csv(\"../data/raw_google_1129.csv\", index=False)\n"
   ]
  },
  {
   "cell_type": "code",
   "execution_count": 19,
   "metadata": {},
   "outputs": [
    {
     "data": {
      "text/html": [
       "<div>\n",
       "<style scoped>\n",
       "    .dataframe tbody tr th:only-of-type {\n",
       "        vertical-align: middle;\n",
       "    }\n",
       "\n",
       "    .dataframe tbody tr th {\n",
       "        vertical-align: top;\n",
       "    }\n",
       "\n",
       "    .dataframe thead th {\n",
       "        text-align: right;\n",
       "    }\n",
       "</style>\n",
       "<table border=\"1\" class=\"dataframe\">\n",
       "  <thead>\n",
       "    <tr style=\"text-align: right;\">\n",
       "      <th></th>\n",
       "      <th>title</th>\n",
       "      <th>publishDate</th>\n",
       "      <th>companyName</th>\n",
       "      <th>location</th>\n",
       "      <th>via</th>\n",
       "      <th>description</th>\n",
       "      <th>jobHighlights</th>\n",
       "      <th>relatedLinks</th>\n",
       "      <th>extras</th>\n",
       "      <th>metadata</th>\n",
       "      <th>applyLink</th>\n",
       "      <th>query</th>\n",
       "      <th>run_time</th>\n",
       "    </tr>\n",
       "  </thead>\n",
       "  <tbody>\n",
       "    <tr>\n",
       "      <th>0</th>\n",
       "      <td>Data Analyst, Product Analytics</td>\n",
       "      <td>2024-03-03 21:23:37.296032</td>\n",
       "      <td>Thomson Reuters</td>\n",
       "      <td>Toronto</td>\n",
       "      <td>via Thomson Reuters Careers</td>\n",
       "      <td>Data Analyst, Product Analytics\\n\\nIf you’re a...</td>\n",
       "      <td>[{'items': ['Data Analyst, Product Analytics\n",
       "\n",
       "...</td>\n",
       "      <td>[{'link': 'http://www.tr.com/', 'text': 'tr.co...</td>\n",
       "      <td>[4 days ago, Full-time, No degree mentioned]</td>\n",
       "      <td>{'postedAt': '4 days ago', 'scheduleType': 'Fu...</td>\n",
       "      <td>{'title': '.nFg2eb{font-weight:500}.Bi6Ddc{fon...</td>\n",
       "      <td>Data Analyst</td>\n",
       "      <td>2024-03-03 21:00:13.380198</td>\n",
       "    </tr>\n",
       "    <tr>\n",
       "      <th>1</th>\n",
       "      <td>Data Analyst</td>\n",
       "      <td>2024-03-03 21:23:37.296032</td>\n",
       "      <td>Resrch Lab</td>\n",
       "      <td>Toronto</td>\n",
       "      <td>via LinkedIn</td>\n",
       "      <td>Description: As a Data Analyst, you'll be resp...</td>\n",
       "      <td>[{'items': ['Description: As a Data Analyst, y...</td>\n",
       "      <td>[{'link': 'https://www.google.com/search?sca_e...</td>\n",
       "      <td>[1 day ago, Part-time, No degree mentioned]</td>\n",
       "      <td>{'postedAt': '1 day ago', 'scheduleType': 'Par...</td>\n",
       "      <td>{'title': 'Apply on LinkedIn', 'link': 'https:...</td>\n",
       "      <td>Data Analyst</td>\n",
       "      <td>2024-03-03 21:00:13.380198</td>\n",
       "    </tr>\n",
       "    <tr>\n",
       "      <th>2</th>\n",
       "      <td>Data Analyst</td>\n",
       "      <td>2024-03-03 21:23:37.296032</td>\n",
       "      <td>Equinix</td>\n",
       "      <td>Toronto</td>\n",
       "      <td>via Career - Equinix</td>\n",
       "      <td>Who are we?\\n\\nEquinix is the world’s digital ...</td>\n",
       "      <td>[{'items': ['Who are we?\n",
       "\n",
       "Equinix is the world...</td>\n",
       "      <td>[{'link': 'http://www.equinix.com/', 'text': '...</td>\n",
       "      <td>[4 days ago, Full-time]</td>\n",
       "      <td>{'postedAt': '4 days ago', 'scheduleType': 'Fu...</td>\n",
       "      <td>{'title': 'Apply on Career - Equinix', 'link':...</td>\n",
       "      <td>Data Analyst</td>\n",
       "      <td>2024-03-03 21:00:13.380198</td>\n",
       "    </tr>\n",
       "    <tr>\n",
       "      <th>3</th>\n",
       "      <td>Senior Data Analyst</td>\n",
       "      <td>2024-03-03 21:23:37.296032</td>\n",
       "      <td>Royal Bank of Canada</td>\n",
       "      <td>Toronto</td>\n",
       "      <td>via RBC Careers</td>\n",
       "      <td>Job Summary\\n\\nJob Description\\n\\nWhat is the ...</td>\n",
       "      <td>[{'items': ['Job Summary\n",
       "\n",
       "Job Description\n",
       "\n",
       "Wha...</td>\n",
       "      <td>[{'link': 'http://www.rbc.com/', 'text': 'rbc....</td>\n",
       "      <td>[4 days ago, Full-time]</td>\n",
       "      <td>{'postedAt': '4 days ago', 'scheduleType': 'Fu...</td>\n",
       "      <td>{'title': 'Apply on RBC Careers', 'link': 'htt...</td>\n",
       "      <td>Data Analyst</td>\n",
       "      <td>2024-03-03 21:00:13.380198</td>\n",
       "    </tr>\n",
       "    <tr>\n",
       "      <th>4</th>\n",
       "      <td>HR Systems and Data Analyst - 15 Month Contract</td>\n",
       "      <td>2024-03-03 21:23:37.296032</td>\n",
       "      <td>Meridian Credit Union</td>\n",
       "      <td>Toronto</td>\n",
       "      <td>via ZipRecruiter</td>\n",
       "      <td>About this opportunity\\n\\nAt Meridian our aspi...</td>\n",
       "      <td>[{'items': ['About this opportunity\n",
       "\n",
       "At Meridi...</td>\n",
       "      <td>[{'link': 'http://www.meridiancu.ca/', 'text':...</td>\n",
       "      <td>[1 day ago, Work from home, Full-time and Cont...</td>\n",
       "      <td>{'postedAt': '1 day ago', 'scheduleType': 'Ful...</td>\n",
       "      <td>{'title': 'Apply on ZipRecruiter', 'link': 'ht...</td>\n",
       "      <td>Data Analyst</td>\n",
       "      <td>2024-03-03 21:00:13.380198</td>\n",
       "    </tr>\n",
       "  </tbody>\n",
       "</table>\n",
       "</div>"
      ],
      "text/plain": [
       "                                             title                publishDate  \\\n",
       "0                  Data Analyst, Product Analytics 2024-03-03 21:23:37.296032   \n",
       "1                                     Data Analyst 2024-03-03 21:23:37.296032   \n",
       "2                                     Data Analyst 2024-03-03 21:23:37.296032   \n",
       "3                              Senior Data Analyst 2024-03-03 21:23:37.296032   \n",
       "4  HR Systems and Data Analyst - 15 Month Contract 2024-03-03 21:23:37.296032   \n",
       "\n",
       "             companyName location                          via  \\\n",
       "0        Thomson Reuters  Toronto  via Thomson Reuters Careers   \n",
       "1             Resrch Lab  Toronto                 via LinkedIn   \n",
       "2                Equinix  Toronto         via Career - Equinix   \n",
       "3   Royal Bank of Canada  Toronto              via RBC Careers   \n",
       "4  Meridian Credit Union  Toronto             via ZipRecruiter   \n",
       "\n",
       "                                         description  \\\n",
       "0  Data Analyst, Product Analytics\\n\\nIf you’re a...   \n",
       "1  Description: As a Data Analyst, you'll be resp...   \n",
       "2  Who are we?\\n\\nEquinix is the world’s digital ...   \n",
       "3  Job Summary\\n\\nJob Description\\n\\nWhat is the ...   \n",
       "4  About this opportunity\\n\\nAt Meridian our aspi...   \n",
       "\n",
       "                                       jobHighlights  \\\n",
       "0  [{'items': ['Data Analyst, Product Analytics\n",
       "\n",
       "...   \n",
       "1  [{'items': ['Description: As a Data Analyst, y...   \n",
       "2  [{'items': ['Who are we?\n",
       "\n",
       "Equinix is the world...   \n",
       "3  [{'items': ['Job Summary\n",
       "\n",
       "Job Description\n",
       "\n",
       "Wha...   \n",
       "4  [{'items': ['About this opportunity\n",
       "\n",
       "At Meridi...   \n",
       "\n",
       "                                        relatedLinks  \\\n",
       "0  [{'link': 'http://www.tr.com/', 'text': 'tr.co...   \n",
       "1  [{'link': 'https://www.google.com/search?sca_e...   \n",
       "2  [{'link': 'http://www.equinix.com/', 'text': '...   \n",
       "3  [{'link': 'http://www.rbc.com/', 'text': 'rbc....   \n",
       "4  [{'link': 'http://www.meridiancu.ca/', 'text':...   \n",
       "\n",
       "                                              extras  \\\n",
       "0       [4 days ago, Full-time, No degree mentioned]   \n",
       "1        [1 day ago, Part-time, No degree mentioned]   \n",
       "2                            [4 days ago, Full-time]   \n",
       "3                            [4 days ago, Full-time]   \n",
       "4  [1 day ago, Work from home, Full-time and Cont...   \n",
       "\n",
       "                                            metadata  \\\n",
       "0  {'postedAt': '4 days ago', 'scheduleType': 'Fu...   \n",
       "1  {'postedAt': '1 day ago', 'scheduleType': 'Par...   \n",
       "2  {'postedAt': '4 days ago', 'scheduleType': 'Fu...   \n",
       "3  {'postedAt': '4 days ago', 'scheduleType': 'Fu...   \n",
       "4  {'postedAt': '1 day ago', 'scheduleType': 'Ful...   \n",
       "\n",
       "                                           applyLink         query  \\\n",
       "0  {'title': '.nFg2eb{font-weight:500}.Bi6Ddc{fon...  Data Analyst   \n",
       "1  {'title': 'Apply on LinkedIn', 'link': 'https:...  Data Analyst   \n",
       "2  {'title': 'Apply on Career - Equinix', 'link':...  Data Analyst   \n",
       "3  {'title': 'Apply on RBC Careers', 'link': 'htt...  Data Analyst   \n",
       "4  {'title': 'Apply on ZipRecruiter', 'link': 'ht...  Data Analyst   \n",
       "\n",
       "                     run_time  \n",
       "0  2024-03-03 21:00:13.380198  \n",
       "1  2024-03-03 21:00:13.380198  \n",
       "2  2024-03-03 21:00:13.380198  \n",
       "3  2024-03-03 21:00:13.380198  \n",
       "4  2024-03-03 21:00:13.380198  "
      ]
     },
     "execution_count": 19,
     "metadata": {},
     "output_type": "execute_result"
    }
   ],
   "source": [
    "position_df.head()"
   ]
  },
  {
   "cell_type": "code",
   "execution_count": 20,
   "metadata": {},
   "outputs": [],
   "source": [
    "from opensearchpy import OpenSearch, helpers"
   ]
  },
  {
   "cell_type": "code",
   "execution_count": 8,
   "metadata": {},
   "outputs": [
    {
     "name": "stdout",
     "output_type": "stream",
     "text": [
      "<bound method OpenSearch.info of <OpenSearch([{'host': 'localhost', 'port': 9200}])>>\n"
     ]
    }
   ],
   "source": [
    "host = 'localhost'\n",
    "port = 9200\n",
    "auth = ('admin', 'admin') # For testing only. Don't store credentials in code.\n",
    "ca_certs_path = '/full/path/to/root-ca.pem' # Provide a CA bundle if you use intermediate CAs with your root CA.\n",
    "\n",
    "# Create the client with SSL/TLS enabled, but hostname verification disabled.\n",
    "client = OpenSearch(\n",
    "    hosts = [{'host': host, 'port': port}],\n",
    "    http_compress = True, # enables gzip compression for request bodies\n",
    "    http_auth = auth,\n",
    "    use_ssl = True,\n",
    "    verify_certs = False,\n",
    "    ssl_assert_hostname = False,\n",
    "    ssl_show_warn = False,\n",
    "    ca_certs = ca_certs_path\n",
    ")\n",
    "\n",
    "print(client.info)"
   ]
  },
  {
   "cell_type": "code",
   "execution_count": 10,
   "metadata": {},
   "outputs": [],
   "source": [
    "index_name = \"swift_dev\"\n",
    "\n",
    "if not client.indices.exists(index_name):\n",
    "    client.indices.create(index=index_name)\n"
   ]
  },
  {
   "cell_type": "code",
   "execution_count": 12,
   "metadata": {},
   "outputs": [
    {
     "name": "stdout",
     "output_type": "stream",
     "text": [
      "Data Saved to ES\n"
     ]
    }
   ],
   "source": [
    "def doc_generator(df):\n",
    "    for i, row in df.iterrows():\n",
    "        doc = {\n",
    "            \"_index\": index_name,\n",
    "            \"_source\": row.to_dict(),\n",
    "        }\n",
    "        yield doc\n",
    "\n",
    "helpers.bulk(client, doc_generator(position_df))\n",
    "\n",
    "print(\"Data Saved to ES\")"
   ]
  },
  {
   "cell_type": "code",
   "execution_count": 13,
   "metadata": {},
   "outputs": [
    {
     "data": {
      "text/plain": [
       "query\n",
       "Data Analyst     30\n",
       "Data Engineer    30\n",
       "Name: count, dtype: int64"
      ]
     },
     "execution_count": 13,
     "metadata": {},
     "output_type": "execute_result"
    }
   ],
   "source": [
    "position_df[\"query\"].value_counts()"
   ]
  }
 ],
 "metadata": {
  "kernelspec": {
   "display_name": "base",
   "language": "python",
   "name": "python3"
  },
  "language_info": {
   "codemirror_mode": {
    "name": "ipython",
    "version": 3
   },
   "file_extension": ".py",
   "mimetype": "text/x-python",
   "name": "python",
   "nbconvert_exporter": "python",
   "pygments_lexer": "ipython3",
   "version": "3.11.5"
  },
  "orig_nbformat": 4
 },
 "nbformat": 4,
 "nbformat_minor": 2
}
